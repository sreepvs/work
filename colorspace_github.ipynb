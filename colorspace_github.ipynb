{
 "cells": [
  {
   "cell_type": "code",
   "execution_count": 1,
   "id": "20eb5bf1-3466-4064-b7c4-42f13045d6d2",
   "metadata": {},
   "outputs": [],
   "source": [
    "import numpy as np\n",
    "import os\n",
    "import pandas as pd\n",
    "import cv2"
   ]
  },
  {
   "cell_type": "code",
   "execution_count": null,
   "id": "b63f5c07-4f19-4414-834c-fc4069988688",
   "metadata": {},
   "outputs": [
    {
     "name": "stdout",
     "output_type": "stream",
     "text": [
      "(500, 500)\n"
     ]
    }
   ],
   "source": [
    "## White color canvas  --- color_space ---grayscale\n",
    "canva = np.full((500,500),255,dtype = np.uint8)\n",
    "print(canva.shape)\n",
    "cv2.line(canva,(0,0),(200,0),(180),10)\n",
    "\n",
    "cv2.imshow(\"line\",canva)\n",
    "cv2.waitKey()\n",
    "cv2.destroyAllWindows()"
   ]
  },
  {
   "cell_type": "code",
   "execution_count": null,
   "id": "eff4bdc1-20a4-47ab-b039-1143d9bf8f99",
   "metadata": {},
   "outputs": [],
   "source": [
    "## White color canvas  --- color_space ---BGR\n",
    "canva = np.full((500,500,3),255,dtype = np.uint8)\n",
    "\n",
    "cv2.line(canva,(0,0),(500,500),(255,0,0),4)   #-- Diagonal line\n",
    "\n",
    "cv2.imshow(\"line\",canva)\n",
    "cv2.waitKey()\n",
    "cv2.destroyAllWindows()"
   ]
  },
  {
   "cell_type": "code",
   "execution_count": null,
   "id": "1d0b31e7-eb05-41dc-a11f-209f038e915e",
   "metadata": {},
   "outputs": [],
   "source": [
    "## Vertical Line\n",
    "canva = np.full((500,500,3),255,dtype = np.uint8)\n",
    "\n",
    "cv2.line(canva,(255,0),(255,500),(255,0,0),4)\n",
    "\n",
    "cv2.imshow(\"line\",canva)\n",
    "cv2.waitKey()\n",
    "cv2.destroyAllWindows()"
   ]
  },
  {
   "cell_type": "code",
   "execution_count": null,
   "id": "876e585d-9560-4b7e-b7bc-49ec25532731",
   "metadata": {},
   "outputs": [],
   "source": [
    "## half Vertical Line\n",
    "canva = np.full((500,500,3),255,dtype = np.uint8)\n",
    "\n",
    "cv2.line(canva,(255,0),(255,255),(255,0,0),4)\n",
    "\n",
    "cv2.imshow(\"line\",canva)\n",
    "cv2.waitKey()\n",
    "cv2.destroyAllWindows()"
   ]
  },
  {
   "cell_type": "code",
   "execution_count": null,
   "id": "69bcff76-b275-46ea-87ce-c65341833d3b",
   "metadata": {},
   "outputs": [],
   "source": [
    "## Horizontal Line\n",
    "canva = np.full((500,500,3),255,dtype = np.uint8)\n",
    "\n",
    "cv2.line(canva,(0,250),(500,250),(255,0,0),4)\n",
    "\n",
    "cv2.imshow(\"line\",canva)\n",
    "cv2.waitKey()\n",
    "cv2.destroyAllWindows()"
   ]
  },
  {
   "cell_type": "markdown",
   "id": "0e5b5181-068f-45db-84f7-e3abc4fefe58",
   "metadata": {},
   "source": [
    "# rectangle or square"
   ]
  },
  {
   "cell_type": "code",
   "execution_count": null,
   "id": "0675b259-2a10-4f6a-87b2-c7273e8b75c7",
   "metadata": {},
   "outputs": [],
   "source": [
    "canva = np.full((500,500,3),255,dtype =np.uint8)\n",
    "\n",
    "cv2.rectangle(canva,(200,200),(400,400),(255,0,0),2)\n",
    "\n",
    "cv2.rectangle(canva,(300,200),(400,500),(255,0,0),-1)\n",
    "\n",
    "cv2.imshow(\"rectangle\",canva)\n",
    "cv2.waitKey()\n",
    "cv2.destroyAllWindows()"
   ]
  },
  {
   "cell_type": "code",
   "execution_count": null,
   "id": "315f6da7-a548-4c1f-8875-73304641aeec",
   "metadata": {},
   "outputs": [],
   "source": [
    "canva = np.full((500,500,3),255,dtype =np.uint8)\n",
    "cv2.rectangle(canva,(200,200),(500,400),(255,0,0),2)\n",
    "\n",
    "cv2.imshow(\"rectangle\",canva)\n",
    "cv2.waitKey()\n",
    "cv2.destroyAllWindows()"
   ]
  },
  {
   "cell_type": "markdown",
   "id": "4dff1e3f-973a-4b53-a633-6f5d0d39caeb",
   "metadata": {},
   "source": [
    "# circle"
   ]
  },
  {
   "cell_type": "code",
   "execution_count": null,
   "id": "01b88335-af06-4944-9b92-5d3203328802",
   "metadata": {},
   "outputs": [],
   "source": [
    "canva = np.full((500,500,3),255,dtype =np.uint8)\n",
    "\n",
    "cv2.circle(canva,(250,250),150,(255,0,0),2)\n",
    "##image,center(pixel)(c,r),radius,color,thickness of the circle\n",
    "\n",
    "cv2.imshow(\"circle\",canva)\n",
    "cv2.waitKey()\n",
    "cv2.destroyAllWindows()"
   ]
  },
  {
   "cell_type": "markdown",
   "id": "3b22c7a2-d217-4edf-bef1-4a95ca4f10c1",
   "metadata": {},
   "source": [
    "# circle & rectangle"
   ]
  },
  {
   "cell_type": "code",
   "execution_count": null,
   "id": "8fead111-add2-4d25-9219-105ee86a9bdc",
   "metadata": {},
   "outputs": [],
   "source": [
    "canva = np.full((500,500,3),255,dtype =np.uint8)\n",
    "\n",
    "cv2.circle(canva,(250,250),150,(255,0,0),2)\n",
    "cv2.rectangle(canva,(200,200),(500,400),(0,255,0),-1)\n",
    "\n",
    "cv2.imshow(\"circle\",canva)\n",
    "cv2.waitKey()\n",
    "cv2.destroyAllWindows()"
   ]
  },
  {
   "cell_type": "markdown",
   "id": "772d76d5-4c3c-4187-8434-1c94d2dec248",
   "metadata": {},
   "source": [
    "# polylines"
   ]
  },
  {
   "cell_type": "code",
   "execution_count": null,
   "id": "0cf787cb-cc94-4dbf-bc29-562146fcf719",
   "metadata": {},
   "outputs": [],
   "source": [
    "pts = np.array([[12,15],[56,78],[89,10],[25,40],[60,30]])\n",
    "\n",
    "canva = np.full((500,500,3),255,dtype =np.uint8)\n",
    "\n",
    "pts = pts.reshape((-1,1,2))\n",
    "\n",
    "cv2.polylines(canva,[pts],True,(0,255,0),4)\n",
    "\n",
    "\n",
    "cv2.imshow(\"polylines\",canva)\n",
    "cv2.waitKey()\n",
    "cv2.destroyAllWindows()\n"
   ]
  },
  {
   "cell_type": "markdown",
   "id": "4d1bb7ac-d345-400e-9cde-5c16db9e170e",
   "metadata": {},
   "source": [
    "# to write text inside canvas"
   ]
  },
  {
   "cell_type": "code",
   "execution_count": null,
   "id": "1b9d4b89-bcbc-4e51-b1cb-28281a512655",
   "metadata": {},
   "outputs": [],
   "source": [
    "canva = np.full((600,600,3),255,dtype =np.uint8)\n",
    "\n",
    "cv2.putText(canva,\"SaniyaMastan\",(100,100),cv2.FONT_ITALIC,2,(255,0,0),8)\n",
    "\n",
    "cv2.imshow(\"txt\",canva)\n",
    "cv2.waitKey()\n",
    "cv2.destroyAllWindows()"
   ]
  },
  {
   "cell_type": "code",
   "execution_count": null,
   "id": "9f99728d-265f-40c6-af45-ee1749953a74",
   "metadata": {},
   "outputs": [],
   "source": []
  }
 ],
 "metadata": {
  "kernelspec": {
   "display_name": "Python 3 (ipykernel)",
   "language": "python",
   "name": "python3"
  },
  "language_info": {
   "codemirror_mode": {
    "name": "ipython",
    "version": 3
   },
   "file_extension": ".py",
   "mimetype": "text/x-python",
   "name": "python",
   "nbconvert_exporter": "python",
   "pygments_lexer": "ipython3",
   "version": "3.11.7"
  }
 },
 "nbformat": 4,
 "nbformat_minor": 5
}
